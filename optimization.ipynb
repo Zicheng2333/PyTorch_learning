{
 "cells": [
  {
   "cell_type": "code",
   "execution_count": 1,
   "metadata": {
    "collapsed": true,
    "ExecuteTime": {
     "end_time": "2023-10-02T09:03:54.209677Z",
     "start_time": "2023-10-02T09:03:53.231554Z"
    }
   },
   "outputs": [],
   "source": [
    "import torch\n",
    "from torch import nn\n",
    "from torch.utils.data import DataLoader\n",
    "from torchvision import datasets\n",
    "from torchvision.transforms import ToTensor\n",
    "\n",
    "training_data = datasets.FashionMNIST(\n",
    "    root=\"data\",\n",
    "    train=True,\n",
    "    download=True,\n",
    "    transform=ToTensor()\n",
    ")\n",
    "\n",
    "test_data = datasets.FashionMNIST(\n",
    "    root=\"data\",\n",
    "    train=False,\n",
    "    download=True,\n",
    "    transform=ToTensor()\n",
    ")\n",
    "\n",
    "train_dataloader = DataLoader(training_data, batch_size=64)\n",
    "test_dataloader = DataLoader(test_data, batch_size=64)\n",
    "\n",
    "class NeuralNetwork(nn.Module):\n",
    "    def __init__(self):\n",
    "        super().__init__()\n",
    "        self.flatten = nn.Flatten()\n",
    "        self.linear_relu_stack = nn.Sequential(\n",
    "            nn.Linear(28*28, 512),\n",
    "            nn.ReLU(),\n",
    "            nn.Linear(512, 512),\n",
    "            nn.ReLU(),\n",
    "            nn.Linear(512, 10),\n",
    "        )\n",
    "\n",
    "    def forward(self, x):\n",
    "        x = self.flatten(x)\n",
    "        logits = self.linear_relu_stack(x)\n",
    "        return logits\n",
    "\n",
    "model = NeuralNetwork()"
   ]
  },
  {
   "cell_type": "code",
   "execution_count": 2,
   "outputs": [],
   "source": [
    "lr = 1e-3\n",
    "batch_size = 64\n",
    "epochs = 5"
   ],
   "metadata": {
    "collapsed": false,
    "ExecuteTime": {
     "end_time": "2023-10-02T09:09:14.827424Z",
     "start_time": "2023-10-02T09:09:14.813567Z"
    }
   }
  },
  {
   "cell_type": "code",
   "execution_count": 3,
   "outputs": [],
   "source": [
    "loss_fn = nn.CrossEntropyLoss()"
   ],
   "metadata": {
    "collapsed": false,
    "ExecuteTime": {
     "end_time": "2023-10-02T09:09:25.156479Z",
     "start_time": "2023-10-02T09:09:25.150890Z"
    }
   }
  },
  {
   "cell_type": "code",
   "execution_count": 4,
   "outputs": [],
   "source": [
    "optimizer = torch.optim.SGD(model.parameters(),lr = lr)"
   ],
   "metadata": {
    "collapsed": false,
    "ExecuteTime": {
     "end_time": "2023-10-02T09:12:09.762496Z",
     "start_time": "2023-10-02T09:12:09.756597Z"
    }
   }
  },
  {
   "cell_type": "code",
   "execution_count": 11,
   "outputs": [],
   "source": [
    "def train_loop(dataloader,model,loss_fn,optimizer):\n",
    "    size = len(dataloader.dataset)\n",
    "    model.train()\n",
    "    for batch,(X,y) in enumerate(dataloader):\n",
    "        pred = model(X)\n",
    "        loss = loss_fn(pred,y)\n",
    "\n",
    "        loss.backward()\n",
    "        optimizer.step()\n",
    "        optimizer.zero_grad()\n",
    "\n",
    "        if batch%100==0:\n",
    "            loss,current = loss.item(),(batch+1)*len(X)\n",
    "            print(f\"loss: {loss:>7f}  [{current:>5d}/{size:>5d}]\")\n",
    "            #每隔100个batch跟踪一次训练进度\n",
    "\n",
    "def test_loop(dataloader,model,loss_fn):\n",
    "    model.eval()\n",
    "    size = len(dataloader.dataset)\n",
    "    num_batches = len(dataloader)\n",
    "    test_loss,correct = 0,0\n",
    "\n",
    "    with torch.no_grad():\n",
    "        for X,y in dataloader:\n",
    "            pred = model(X)\n",
    "            test_loss +=loss_fn(pred,y).item()\n",
    "            correct+=(pred.argmax(1)==y).type(torch.float).sum().item()\n",
    "\n",
    "    test_loss /=num_batches\n",
    "    correct /=size\n",
    "    print(f\"Test Error: \\n Accuracy: {(100*correct):>0.1f}%, Avg loss: {test_loss:>8f} \\n\")"
   ],
   "metadata": {
    "collapsed": false,
    "ExecuteTime": {
     "end_time": "2023-10-02T09:30:28.726412Z",
     "start_time": "2023-10-02T09:30:28.724010Z"
    }
   }
  },
  {
   "cell_type": "code",
   "execution_count": 12,
   "outputs": [
    {
     "name": "stdout",
     "output_type": "stream",
     "text": [
      "epochs: 1\n",
      "loss: 1.538667  [   64/60000]\n",
      "loss: 1.507123  [ 6464/60000]\n",
      "loss: 1.346920  [12864/60000]\n",
      "loss: 1.423602  [19264/60000]\n",
      "loss: 1.306327  [25664/60000]\n",
      "loss: 1.310154  [32064/60000]\n",
      "loss: 1.328665  [38464/60000]\n",
      "loss: 1.253428  [44864/60000]\n",
      "loss: 1.288324  [51264/60000]\n",
      "loss: 1.196479  [57664/60000]\n",
      "Test Error: \n",
      " Accuracy: 63.1%, Avg loss: 1.218716 \n",
      "\n",
      "epochs: 2\n",
      "loss: 1.295770  [   64/60000]\n",
      "loss: 1.284471  [ 6464/60000]\n",
      "loss: 1.109471  [12864/60000]\n",
      "loss: 1.223870  [19264/60000]\n",
      "loss: 1.093393  [25664/60000]\n",
      "loss: 1.122850  [32064/60000]\n",
      "loss: 1.152615  [38464/60000]\n",
      "loss: 1.086286  [44864/60000]\n",
      "loss: 1.128263  [51264/60000]\n",
      "loss: 1.051637  [57664/60000]\n",
      "Test Error: \n",
      " Accuracy: 64.4%, Avg loss: 1.068409 \n",
      "\n",
      "epochs: 3\n",
      "loss: 1.137129  [   64/60000]\n",
      "loss: 1.147280  [ 6464/60000]\n",
      "loss: 0.956001  [12864/60000]\n",
      "loss: 1.101308  [19264/60000]\n",
      "loss: 0.965585  [25664/60000]\n",
      "loss: 0.998361  [32064/60000]\n",
      "loss: 1.044072  [38464/60000]\n",
      "loss: 0.981565  [44864/60000]\n",
      "loss: 1.023653  [51264/60000]\n",
      "loss: 0.961152  [57664/60000]\n",
      "Test Error: \n",
      " Accuracy: 65.5%, Avg loss: 0.971484 \n",
      "\n",
      "epochs: 4\n",
      "loss: 1.026823  [   64/60000]\n",
      "loss: 1.057500  [ 6464/60000]\n",
      "loss: 0.851077  [12864/60000]\n",
      "loss: 1.019590  [19264/60000]\n",
      "loss: 0.884522  [25664/60000]\n",
      "loss: 0.909575  [32064/60000]\n",
      "loss: 0.971747  [38464/60000]\n",
      "loss: 0.913317  [44864/60000]\n",
      "loss: 0.950092  [51264/60000]\n",
      "loss: 0.899037  [57664/60000]\n",
      "Test Error: \n",
      " Accuracy: 66.8%, Avg loss: 0.904452 \n",
      "\n",
      "epochs: 5\n",
      "loss: 0.944869  [   64/60000]\n",
      "loss: 0.993599  [ 6464/60000]\n",
      "loss: 0.775077  [12864/60000]\n",
      "loss: 0.960691  [19264/60000]\n",
      "loss: 0.828734  [25664/60000]\n",
      "loss: 0.843379  [32064/60000]\n",
      "loss: 0.919488  [38464/60000]\n",
      "loss: 0.867246  [44864/60000]\n",
      "loss: 0.896255  [51264/60000]\n",
      "loss: 0.852899  [57664/60000]\n",
      "Test Error: \n",
      " Accuracy: 67.9%, Avg loss: 0.855111 \n",
      "\n",
      "done\n"
     ]
    }
   ],
   "source": [
    "for t in range(epochs):\n",
    "    print('epochs:',t+1)\n",
    "    train_loop(train_dataloader,model,loss_fn,optimizer)\n",
    "    test_loop(test_dataloader,model,loss_fn)\n",
    "print('done')"
   ],
   "metadata": {
    "collapsed": false,
    "ExecuteTime": {
     "end_time": "2023-10-02T09:30:46.499388Z",
     "start_time": "2023-10-02T09:30:29.712965Z"
    }
   }
  },
  {
   "cell_type": "code",
   "execution_count": 13,
   "outputs": [],
   "source": [
    "import torchvision.models as models"
   ],
   "metadata": {
    "collapsed": false,
    "ExecuteTime": {
     "end_time": "2023-10-02T09:32:01.650684Z",
     "start_time": "2023-10-02T09:32:01.637144Z"
    }
   }
  },
  {
   "cell_type": "code",
   "execution_count": 14,
   "outputs": [],
   "source": [
    "torch.save(model.state_dict(),'model_weights.pth')"
   ],
   "metadata": {
    "collapsed": false,
    "ExecuteTime": {
     "end_time": "2023-10-02T09:33:20.699228Z",
     "start_time": "2023-10-02T09:33:20.694681Z"
    }
   }
  },
  {
   "cell_type": "markdown",
   "source": [],
   "metadata": {
    "collapsed": false
   }
  },
  {
   "cell_type": "markdown",
   "source": [
    "To load model weights, you need to create an instance of the same model first"
   ],
   "metadata": {
    "collapsed": false
   }
  },
  {
   "cell_type": "code",
   "execution_count": 15,
   "outputs": [
    {
     "data": {
      "text/plain": "<All keys matched successfully>"
     },
     "execution_count": 15,
     "metadata": {},
     "output_type": "execute_result"
    }
   ],
   "source": [
    "model = NeuralNetwork()\n",
    "model.load_state_dict(torch.load('model_weights.pth'))\n",
    "models.eval()"
   ],
   "metadata": {
    "collapsed": false,
    "ExecuteTime": {
     "end_time": "2023-10-02T09:36:06.385041Z",
     "start_time": "2023-10-02T09:36:06.375007Z"
    }
   }
  },
  {
   "cell_type": "code",
   "execution_count": 16,
   "outputs": [],
   "source": [
    "torch.save(model, 'model.pth') #能同时保存模型结构"
   ],
   "metadata": {
    "collapsed": false,
    "ExecuteTime": {
     "end_time": "2023-10-02T09:38:44.399887Z",
     "start_time": "2023-10-02T09:38:44.395917Z"
    }
   }
  },
  {
   "cell_type": "code",
   "execution_count": 17,
   "outputs": [],
   "source": [
    "model = torch.load('model.pth')"
   ],
   "metadata": {
    "collapsed": false,
    "ExecuteTime": {
     "end_time": "2023-10-02T09:38:45.077232Z",
     "start_time": "2023-10-02T09:38:45.067335Z"
    }
   }
  },
  {
   "cell_type": "code",
   "execution_count": null,
   "outputs": [],
   "source": [],
   "metadata": {
    "collapsed": false
   }
  }
 ],
 "metadata": {
  "kernelspec": {
   "display_name": "Python 3",
   "language": "python",
   "name": "python3"
  },
  "language_info": {
   "codemirror_mode": {
    "name": "ipython",
    "version": 2
   },
   "file_extension": ".py",
   "mimetype": "text/x-python",
   "name": "python",
   "nbconvert_exporter": "python",
   "pygments_lexer": "ipython2",
   "version": "2.7.6"
  }
 },
 "nbformat": 4,
 "nbformat_minor": 0
}
