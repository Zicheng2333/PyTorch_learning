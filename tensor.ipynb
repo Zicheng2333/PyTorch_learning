{
 "cells": [
  {
   "cell_type": "raw",
   "source": [],
   "metadata": {
    "collapsed": false
   }
  },
  {
   "cell_type": "code",
   "execution_count": 3,
   "outputs": [],
   "source": [
    "import torch\n",
    "import numpy as np"
   ],
   "metadata": {
    "collapsed": false,
    "ExecuteTime": {
     "end_time": "2023-10-02T01:37:19.288931Z",
     "start_time": "2023-10-02T01:37:16.431222Z"
    }
   }
  },
  {
   "cell_type": "code",
   "execution_count": 4,
   "metadata": {
    "collapsed": true,
    "ExecuteTime": {
     "end_time": "2023-10-02T01:37:19.302065Z",
     "start_time": "2023-10-02T01:37:19.291488Z"
    }
   },
   "outputs": [
    {
     "data": {
      "text/plain": "'2.0.1'"
     },
     "execution_count": 4,
     "metadata": {},
     "output_type": "execute_result"
    }
   ],
   "source": [
    "torch.version.__version__"
   ]
  },
  {
   "cell_type": "markdown",
   "source": [
    "检查torch的版本"
   ],
   "metadata": {
    "collapsed": false
   }
  },
  {
   "cell_type": "code",
   "execution_count": 5,
   "outputs": [
    {
     "data": {
      "text/plain": "tensor([[1., 1., 1.],\n        [1., 1., 1.],\n        [1., 1., 1.]])"
     },
     "execution_count": 5,
     "metadata": {},
     "output_type": "execute_result"
    }
   ],
   "source": [
    "a = torch.ones(3,3)\n",
    "a"
   ],
   "metadata": {
    "collapsed": false,
    "ExecuteTime": {
     "end_time": "2023-10-02T01:37:21.701543Z",
     "start_time": "2023-10-02T01:37:21.694920Z"
    }
   }
  },
  {
   "cell_type": "code",
   "execution_count": 6,
   "outputs": [
    {
     "data": {
      "text/plain": "tensor([[1., 2., 1.],\n        [1., 1., 1.],\n        [1., 1., 1.]])"
     },
     "execution_count": 6,
     "metadata": {},
     "output_type": "execute_result"
    }
   ],
   "source": [
    "a[0,1]=2\n",
    "a"
   ],
   "metadata": {
    "collapsed": false,
    "ExecuteTime": {
     "end_time": "2023-10-02T01:37:22.579317Z",
     "start_time": "2023-10-02T01:37:22.575504Z"
    }
   }
  },
  {
   "cell_type": "markdown",
   "source": [
    "两个索引分别表示行和列"
   ],
   "metadata": {
    "collapsed": false
   }
  },
  {
   "cell_type": "code",
   "execution_count": 7,
   "outputs": [
    {
     "data": {
      "text/plain": "tensor([[2., 3., 2.],\n        [2., 2., 2.],\n        [2., 2., 2.]])"
     },
     "execution_count": 7,
     "metadata": {},
     "output_type": "execute_result"
    }
   ],
   "source": [
    "b = torch.ones(3,3)\n",
    "a+b"
   ],
   "metadata": {
    "collapsed": false,
    "ExecuteTime": {
     "end_time": "2023-10-02T01:37:24.271407Z",
     "start_time": "2023-10-02T01:37:24.268319Z"
    }
   }
  },
  {
   "cell_type": "code",
   "execution_count": 8,
   "outputs": [
    {
     "data": {
      "text/plain": "False"
     },
     "execution_count": 8,
     "metadata": {},
     "output_type": "execute_result"
    }
   ],
   "source": [
    "torch.cuda.is_available()"
   ],
   "metadata": {
    "collapsed": false,
    "ExecuteTime": {
     "end_time": "2023-10-02T01:37:25.637786Z",
     "start_time": "2023-10-02T01:37:25.633697Z"
    }
   }
  },
  {
   "cell_type": "code",
   "execution_count": 12,
   "outputs": [
    {
     "name": "stdout",
     "output_type": "stream",
     "text": [
      "tensor([[1, 2],\n",
      "        [3, 4]])\n"
     ]
    }
   ],
   "source": [
    "data = [[1,2],[3,4]]\n",
    "x_data = torch.tensor(data)\n",
    "print(x_data)"
   ],
   "metadata": {
    "collapsed": false,
    "ExecuteTime": {
     "end_time": "2023-10-02T01:37:53.145794Z",
     "start_time": "2023-10-02T01:37:53.142270Z"
    }
   }
  },
  {
   "cell_type": "code",
   "execution_count": 15,
   "outputs": [
    {
     "name": "stdout",
     "output_type": "stream",
     "text": [
      "[[1 2]\n",
      " [3 4]]\n",
      "tensor([[1, 2],\n",
      "        [3, 4]])\n"
     ]
    }
   ],
   "source": [
    "np_array = np.array(data)\n",
    "print(np_array)\n",
    "x_np = torch.tensor(np_array) #复制numpy数组的数据\n",
    "print(x_np)"
   ],
   "metadata": {
    "collapsed": false,
    "ExecuteTime": {
     "end_time": "2023-10-02T01:38:56.092235Z",
     "start_time": "2023-10-02T01:38:56.088850Z"
    }
   }
  },
  {
   "cell_type": "code",
   "execution_count": 18,
   "outputs": [
    {
     "name": "stdout",
     "output_type": "stream",
     "text": [
      "tensor([[1, 1],\n",
      "        [1, 1]])\n",
      "tensor([[0.6889, 0.1499],\n",
      "        [0.8329, 0.0017]], dtype=torch.float64)\n"
     ]
    }
   ],
   "source": [
    "x1 = torch.ones_like(x_data)\n",
    "print(x1)\n",
    "x2 = torch.rand_like(x_data,dtype=float) #这个方法只适用于浮点型的张量，对于long类型的张量不适用\n",
    "print(x2)"
   ],
   "metadata": {
    "collapsed": false,
    "ExecuteTime": {
     "end_time": "2023-10-02T01:44:09.747570Z",
     "start_time": "2023-10-02T01:44:09.743085Z"
    }
   }
  },
  {
   "cell_type": "code",
   "execution_count": 21,
   "outputs": [
    {
     "name": "stdout",
     "output_type": "stream",
     "text": [
      "tensor([[0.3455, 0.1334, 0.3109],\n",
      "        [0.2169, 0.4606, 0.4813]])\n",
      "tensor([[1., 1., 1.],\n",
      "        [1., 1., 1.]])\n"
     ]
    }
   ],
   "source": [
    "shape = (2,3) #shape = (2,3,)效果一样\n",
    "rand_tesor = torch.rand(shape)\n",
    "print(rand_tesor)\n",
    "ones_tensor = torch.ones(shape)\n",
    "print(ones_tensor)"
   ],
   "metadata": {
    "collapsed": false,
    "ExecuteTime": {
     "end_time": "2023-10-02T01:46:59.649265Z",
     "start_time": "2023-10-02T01:46:59.645097Z"
    }
   }
  },
  {
   "cell_type": "code",
   "execution_count": 23,
   "outputs": [
    {
     "name": "stdout",
     "output_type": "stream",
     "text": [
      "torch.Size([3, 4]) torch.float32 cpu\n"
     ]
    }
   ],
   "source": [
    "tensor = torch.rand(3,4)\n",
    "print(tensor.shape,tensor.dtype,tensor.device)"
   ],
   "metadata": {
    "collapsed": false,
    "ExecuteTime": {
     "end_time": "2023-10-02T01:48:38.497634Z",
     "start_time": "2023-10-02T01:48:38.494031Z"
    }
   }
  },
  {
   "cell_type": "code",
   "execution_count": 24,
   "outputs": [],
   "source": [
    "if torch.cuda.is_available():\n",
    "    tensor = tensor.to('cuda')"
   ],
   "metadata": {
    "collapsed": false,
    "ExecuteTime": {
     "end_time": "2023-10-02T01:51:27.824594Z",
     "start_time": "2023-10-02T01:51:27.821730Z"
    }
   }
  },
  {
   "cell_type": "markdown",
   "source": [
    "tensor默认在cpu运行，需要以上语句将其移动到gpu运行"
   ],
   "metadata": {
    "collapsed": false
   }
  },
  {
   "cell_type": "code",
   "execution_count": 26,
   "outputs": [
    {
     "name": "stdout",
     "output_type": "stream",
     "text": [
      "tensor([[0.9037, 0.4141, 0.1843, 0.8545],\n",
      "        [0.4442, 0.2585, 0.7374, 0.7854],\n",
      "        [0.0307, 0.7404, 0.6525, 0.7396],\n",
      "        [0.1124, 0.4544, 0.6622, 0.2817]])\n",
      "first row: tensor([0.9037, 0.4141, 0.1843, 0.8545])\n",
      "last row: tensor([0.1124, 0.4544, 0.6622, 0.2817])\n",
      "first column: tensor([0.9037, 0.4442, 0.0307, 0.1124])\n",
      "last col: tensor([0.8545, 0.7854, 0.7396, 0.2817])\n",
      "last? tensor([0.8545, 0.7854, 0.7396, 0.2817])\n",
      "tensor([[0.9037, 0.0000, 0.1843, 0.8545],\n",
      "        [0.4442, 0.0000, 0.7374, 0.7854],\n",
      "        [0.0307, 0.0000, 0.6525, 0.7396],\n",
      "        [0.1124, 0.0000, 0.6622, 0.2817]])\n"
     ]
    }
   ],
   "source": [
    "tensor = torch.rand(4,4)\n",
    "print(tensor)\n",
    "print(\"first row:\",tensor[0])\n",
    "print(\"last row:\",tensor[-1])\n",
    "print(\"first column:\",tensor[:,0])\n",
    "print(\"last col:\",tensor[...,-1])\n",
    "print(\"last?\",tensor[:,-1])\n",
    "tensor[:,1]=0 #注意这是第二列！\n",
    "print(tensor)"
   ],
   "metadata": {
    "collapsed": false,
    "ExecuteTime": {
     "end_time": "2023-10-02T01:55:25.175590Z",
     "start_time": "2023-10-02T01:55:25.171782Z"
    }
   }
  },
  {
   "cell_type": "code",
   "execution_count": 34,
   "outputs": [
    {
     "name": "stdout",
     "output_type": "stream",
     "text": [
      "tensor([[0.9037, 0.0000, 0.1843, 0.8545],\n",
      "        [0.4442, 0.0000, 0.7374, 0.7854],\n",
      "        [0.0307, 0.0000, 0.6525, 0.7396],\n",
      "        [0.1124, 0.0000, 0.6622, 0.2817],\n",
      "        [0.9037, 0.0000, 0.1843, 0.8545],\n",
      "        [0.4442, 0.0000, 0.7374, 0.7854],\n",
      "        [0.0307, 0.0000, 0.6525, 0.7396],\n",
      "        [0.1124, 0.0000, 0.6622, 0.2817],\n",
      "        [0.9037, 0.0000, 0.1843, 0.8545],\n",
      "        [0.4442, 0.0000, 0.7374, 0.7854],\n",
      "        [0.0307, 0.0000, 0.6525, 0.7396],\n",
      "        [0.1124, 0.0000, 0.6622, 0.2817]])\n",
      "tensor([[0.9037, 0.0000, 0.1843, 0.8545, 0.9037, 0.0000, 0.1843, 0.8545, 0.9037,\n",
      "         0.0000, 0.1843, 0.8545],\n",
      "        [0.4442, 0.0000, 0.7374, 0.7854, 0.4442, 0.0000, 0.7374, 0.7854, 0.4442,\n",
      "         0.0000, 0.7374, 0.7854],\n",
      "        [0.0307, 0.0000, 0.6525, 0.7396, 0.0307, 0.0000, 0.6525, 0.7396, 0.0307,\n",
      "         0.0000, 0.6525, 0.7396],\n",
      "        [0.1124, 0.0000, 0.6622, 0.2817, 0.1124, 0.0000, 0.6622, 0.2817, 0.1124,\n",
      "         0.0000, 0.6622, 0.2817]])\n",
      "tensor([[0.9037, 0.0000, 0.1843, 0.8545],\n",
      "        [0.4442, 0.0000, 0.7374, 0.7854],\n",
      "        [0.0307, 0.0000, 0.6525, 0.7396],\n",
      "        [0.1124, 0.0000, 0.6622, 0.2817],\n",
      "        [0.9037, 0.0000, 0.1843, 0.8545],\n",
      "        [0.4442, 0.0000, 0.7374, 0.7854],\n",
      "        [0.0307, 0.0000, 0.6525, 0.7396],\n",
      "        [0.1124, 0.0000, 0.6622, 0.2817],\n",
      "        [0.9037, 0.0000, 0.1843, 0.8545],\n",
      "        [0.4442, 0.0000, 0.7374, 0.7854],\n",
      "        [0.0307, 0.0000, 0.6525, 0.7396],\n",
      "        [0.1124, 0.0000, 0.6622, 0.2817]])\n"
     ]
    }
   ],
   "source": [
    "t1 = torch.cat([tensor,tensor,tensor])\n",
    "print(t1) #效果与dim=0相同，竖着拼接\n",
    "t2 = torch.cat([tensor,tensor,tensor],dim = 1)\n",
    "print(t2) #横着拼接\n",
    "t3 = torch.cat([tensor,tensor,tensor],dim= 0)\n",
    "print(t3)"
   ],
   "metadata": {
    "collapsed": false,
    "ExecuteTime": {
     "end_time": "2023-10-02T01:59:09.814400Z",
     "start_time": "2023-10-02T01:59:09.810718Z"
    }
   }
  },
  {
   "cell_type": "code",
   "execution_count": 41,
   "outputs": [
    {
     "name": "stdout",
     "output_type": "stream",
     "text": [
      "tensor([[1.5808, 1.2084, 0.7800, 0.4643],\n",
      "        [1.2084, 1.3580, 1.0757, 0.7595],\n",
      "        [0.7800, 1.0757, 0.9736, 0.6439],\n",
      "        [0.4643, 0.7595, 0.6439, 0.5305]]) tensor([[1.5808, 1.2084, 0.7800, 0.4643],\n",
      "        [1.2084, 1.3580, 1.0757, 0.7595],\n",
      "        [0.7800, 1.0757, 0.9736, 0.6439],\n",
      "        [0.4643, 0.7595, 0.6439, 0.5305]])\n",
      "tensor([[0.8167, 0.0000, 0.0057, 0.0960],\n",
      "        [0.0000, 0.0000, 0.0000, 0.0000],\n",
      "        [0.0057, 0.0000, 0.4257, 0.4898],\n",
      "        [0.0960, 0.0000, 0.4898, 0.0793]]) tensor([[0.8167, 0.0000, 0.0057, 0.0960],\n",
      "        [0.0000, 0.0000, 0.0000, 0.0000],\n",
      "        [0.0057, 0.0000, 0.4257, 0.4898],\n",
      "        [0.0960, 0.0000, 0.4898, 0.0793]])\n"
     ]
    }
   ],
   "source": [
    "y1 = tensor @ tensor.T #矩阵乘法,y1=y2\n",
    "y2 = torch.matmul(tensor,tensor.T)\n",
    "print(y1,y2)\n",
    "\n",
    "y3 = tensor * tensor.T #逐个元素相乘,y3=y4\n",
    "y4 = torch.mul(tensor,tensor.T)\n",
    "print(y3,y4)"
   ],
   "metadata": {
    "collapsed": false,
    "ExecuteTime": {
     "end_time": "2023-10-02T02:08:16.684571Z",
     "start_time": "2023-10-02T02:08:16.679528Z"
    }
   }
  },
  {
   "cell_type": "code",
   "execution_count": 42,
   "outputs": [
    {
     "name": "stdout",
     "output_type": "stream",
     "text": [
      "tensor(6.3886) 6.3885698318481445 <class 'float'>\n"
     ]
    }
   ],
   "source": [
    "agg = tensor.sum()\n",
    "agg_item = agg.item() #将单元素张量转换为数字\n",
    "print(agg,agg_item,type(agg_item))"
   ],
   "metadata": {
    "collapsed": false,
    "ExecuteTime": {
     "end_time": "2023-10-02T02:09:56.459213Z",
     "start_time": "2023-10-02T02:09:56.447564Z"
    }
   }
  },
  {
   "cell_type": "code",
   "execution_count": 48,
   "outputs": [
    {
     "name": "stdout",
     "output_type": "stream",
     "text": [
      "tensor([[15.9037, 15.0000, 15.1843, 15.8545],\n",
      "        [15.4442, 15.0000, 15.7374, 15.7854],\n",
      "        [15.0307, 15.0000, 15.6525, 15.7396],\n",
      "        [15.1124, 15.0000, 15.6622, 15.2817]]) \n",
      "\n",
      "tensor([[15.9037, 15.0000, 15.1843, 15.8545],\n",
      "        [15.4442, 15.0000, 15.7374, 15.7854],\n",
      "        [15.0307, 15.0000, 15.6525, 15.7396],\n",
      "        [15.1124, 15.0000, 15.6622, 15.2817]])\n",
      "tensor([[20.9037, 20.0000, 20.1843, 20.8545],\n",
      "        [20.4442, 20.0000, 20.7374, 20.7854],\n",
      "        [20.0307, 20.0000, 20.6525, 20.7396],\n",
      "        [20.1124, 20.0000, 20.6622, 20.2817]])\n"
     ]
    }
   ],
   "source": [
    "print(tensor,\"\\n\")\n",
    "print(tensor)\n",
    "tensor.add_(5) #每个元素增加5（会直接修改原始的张量）\n",
    "print(tensor)"
   ],
   "metadata": {
    "collapsed": false,
    "ExecuteTime": {
     "end_time": "2023-10-02T02:11:58.615570Z",
     "start_time": "2023-10-02T02:11:58.611076Z"
    }
   }
  },
  {
   "cell_type": "code",
   "execution_count": 50,
   "outputs": [
    {
     "name": "stdout",
     "output_type": "stream",
     "text": [
      "tensor([1., 1., 1., 1., 1.]) [1. 1. 1. 1. 1.]\n"
     ]
    }
   ],
   "source": [
    "t = torch.ones(5)\n",
    "n = t.numpy() #记得加括号！\n",
    "print(t,n)"
   ],
   "metadata": {
    "collapsed": false,
    "ExecuteTime": {
     "end_time": "2023-10-02T02:14:31.812252Z",
     "start_time": "2023-10-02T02:14:31.809292Z"
    }
   }
  },
  {
   "cell_type": "code",
   "execution_count": null,
   "outputs": [],
   "source": [
    "n = np.ones(5)\n",
    "t = torch.from_numpy(n)\n",
    "#x_np = torch.tensor(np_array)复制numpy的数据，而torch.from_numpy(n)与numpy数组共享内存"
   ],
   "metadata": {
    "collapsed": false
   }
  },
  {
   "cell_type": "code",
   "execution_count": null,
   "outputs": [],
   "source": [],
   "metadata": {
    "collapsed": false
   }
  }
 ],
 "metadata": {
  "kernelspec": {
   "display_name": "Python 3",
   "language": "python",
   "name": "python3"
  },
  "language_info": {
   "codemirror_mode": {
    "name": "ipython",
    "version": 2
   },
   "file_extension": ".py",
   "mimetype": "text/x-python",
   "name": "python",
   "nbconvert_exporter": "python",
   "pygments_lexer": "ipython2",
   "version": "2.7.6"
  }
 },
 "nbformat": 4,
 "nbformat_minor": 0
}
