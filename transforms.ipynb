{
 "cells": [
  {
   "cell_type": "code",
   "execution_count": 1,
   "metadata": {
    "collapsed": true,
    "ExecuteTime": {
     "end_time": "2023-10-02T07:36:24.225960Z",
     "start_time": "2023-10-02T07:36:23.230875Z"
    }
   },
   "outputs": [],
   "source": [
    "import torch\n",
    "from torchvision import datasets\n",
    "from torchvision.transforms import ToTensor,Lambda"
   ]
  },
  {
   "cell_type": "code",
   "execution_count": 2,
   "outputs": [],
   "source": [
    "ds = datasets.FashionMNIST(root='data',train=True,download=False,transform=ToTensor,target_transform=Lambda(lambda y:torch.zeros(10,dtype=torch.float).scatter_(0,torch.tensor(y),value=1)))\n",
    "#lambda:将标签转换成one-hot编码形式\n",
    "#e.g.使用 one-hot 编码，可以将这三个类别编码为如下所示的向量：\n",
    "# 类别 A：[1, 0, 0]\n",
    "# 类别 B：[0, 1, 0]\n",
    "# 类别 C：[0, 0, 1]\n",
    "\n",
    "#全0张量为转换后的目标\n",
    "#scatter将值为1的索引（y）写入全0张量中，第一个0表示在0维上操作"
   ],
   "metadata": {
    "collapsed": false,
    "ExecuteTime": {
     "end_time": "2023-10-02T07:43:44.274831Z",
     "start_time": "2023-10-02T07:43:44.229889Z"
    }
   }
  },
  {
   "cell_type": "code",
   "execution_count": null,
   "outputs": [],
   "source": [],
   "metadata": {
    "collapsed": false
   }
  }
 ],
 "metadata": {
  "kernelspec": {
   "display_name": "Python 3",
   "language": "python",
   "name": "python3"
  },
  "language_info": {
   "codemirror_mode": {
    "name": "ipython",
    "version": 2
   },
   "file_extension": ".py",
   "mimetype": "text/x-python",
   "name": "python",
   "nbconvert_exporter": "python",
   "pygments_lexer": "ipython2",
   "version": "2.7.6"
  }
 },
 "nbformat": 4,
 "nbformat_minor": 0
}
