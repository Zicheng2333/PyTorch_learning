{
 "cells": [
  {
   "cell_type": "code",
   "execution_count": 1,
   "metadata": {
    "collapsed": true,
    "ExecuteTime": {
     "end_time": "2023-10-02T08:32:13.641392Z",
     "start_time": "2023-10-02T08:32:12.754110Z"
    }
   },
   "outputs": [],
   "source": [
    "import torch\n",
    "\n",
    "x = torch.ones(5)\n",
    "y = torch.zeros(3)\n",
    "w = torch.randn(5,3,requires_grad=True)\n",
    "b = torch.randn(3,requires_grad=True)\n",
    "z = torch.matmul(x,w)+b\n",
    "loss = torch.nn.functional.binary_cross_entropy_with_logits(z,y) #这个函数不用进行归一化操作，直接输入原始结果"
   ]
  },
  {
   "cell_type": "code",
   "execution_count": 2,
   "outputs": [
    {
     "name": "stdout",
     "output_type": "stream",
     "text": [
      "<AddBackward0 object at 0x13c3f9fc0> <BinaryCrossEntropyWithLogitsBackward0 object at 0x13c3fb640>\n"
     ]
    }
   ],
   "source": [
    "print(z.grad_fn,loss.grad_fn)"
   ],
   "metadata": {
    "collapsed": false,
    "ExecuteTime": {
     "end_time": "2023-10-02T08:53:04.754382Z",
     "start_time": "2023-10-02T08:53:04.749036Z"
    }
   }
  },
  {
   "cell_type": "code",
   "execution_count": 3,
   "outputs": [
    {
     "name": "stdout",
     "output_type": "stream",
     "text": [
      "tensor([[0.0358, 0.0862, 0.0027],\n",
      "        [0.0358, 0.0862, 0.0027],\n",
      "        [0.0358, 0.0862, 0.0027],\n",
      "        [0.0358, 0.0862, 0.0027],\n",
      "        [0.0358, 0.0862, 0.0027]]) tensor([0.0358, 0.0862, 0.0027])\n"
     ]
    }
   ],
   "source": [
    "loss.backward()\n",
    "print(w.grad,b.grad)"
   ],
   "metadata": {
    "collapsed": false,
    "ExecuteTime": {
     "end_time": "2023-10-02T08:53:32.838071Z",
     "start_time": "2023-10-02T08:53:32.798287Z"
    }
   }
  },
  {
   "cell_type": "code",
   "execution_count": null,
   "outputs": [],
   "source": [],
   "metadata": {
    "collapsed": false
   }
  }
 ],
 "metadata": {
  "kernelspec": {
   "display_name": "Python 3",
   "language": "python",
   "name": "python3"
  },
  "language_info": {
   "codemirror_mode": {
    "name": "ipython",
    "version": 2
   },
   "file_extension": ".py",
   "mimetype": "text/x-python",
   "name": "python",
   "nbconvert_exporter": "python",
   "pygments_lexer": "ipython2",
   "version": "2.7.6"
  }
 },
 "nbformat": 4,
 "nbformat_minor": 0
}
